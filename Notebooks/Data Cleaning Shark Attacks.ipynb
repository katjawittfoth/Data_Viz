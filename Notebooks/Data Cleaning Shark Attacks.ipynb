{
 "cells": [
  {
   "cell_type": "code",
   "execution_count": 91,
   "metadata": {},
   "outputs": [],
   "source": [
    "import pandas as pd\n",
    "import numpy as np\n",
    "import re \n",
    "\n",
    "import warnings\n",
    "warnings.filterwarnings(\"ignore\")"
   ]
  },
  {
   "cell_type": "markdown",
   "metadata": {},
   "source": [
    "I am using shark attack incidents dataset from Kaggle: \n",
    "https://www.kaggle.com/teajay/global-shark-attacks. This data was compiled by the Global Shark Attack File http://www.sharkattackfile.net/."
   ]
  },
  {
   "cell_type": "markdown",
   "metadata": {},
   "source": [
    "# Data cleaning"
   ]
  },
  {
   "cell_type": "markdown",
   "metadata": {},
   "source": [
    "## Dropping columns"
   ]
  },
  {
   "cell_type": "code",
   "execution_count": 2,
   "metadata": {},
   "outputs": [],
   "source": [
    "sharks = pd.read_csv('../attacks.csv', encoding = \"ISO-8859-1\", engine='python')"
   ]
  },
  {
   "cell_type": "code",
   "execution_count": 3,
   "metadata": {},
   "outputs": [
    {
     "data": {
      "text/plain": [
       "(25723, 24)"
      ]
     },
     "execution_count": 3,
     "metadata": {},
     "output_type": "execute_result"
    }
   ],
   "source": [
    "sharks.shape"
   ]
  },
  {
   "cell_type": "code",
   "execution_count": 4,
   "metadata": {},
   "outputs": [
    {
     "data": {
      "text/plain": [
       "array([nan, 'Teramo', 'change filename'], dtype=object)"
      ]
     },
     "execution_count": 4,
     "metadata": {},
     "output_type": "execute_result"
    }
   ],
   "source": [
    "sharks['Unnamed: 23'].unique()"
   ]
  },
  {
   "cell_type": "code",
   "execution_count": 5,
   "metadata": {},
   "outputs": [],
   "source": [
    "sharks = sharks.drop(['Case Number', 'Investigator or Source', 'Name','pdf', 'href formula', 'href',\n",
    "                      'Case Number.1', 'Case Number.2', 'original order', 'Unnamed: 22', 'Unnamed: 23'], axis=1)"
   ]
  },
  {
   "cell_type": "code",
   "execution_count": 6,
   "metadata": {},
   "outputs": [
    {
     "data": {
      "text/html": [
       "<div>\n",
       "<style scoped>\n",
       "    .dataframe tbody tr th:only-of-type {\n",
       "        vertical-align: middle;\n",
       "    }\n",
       "\n",
       "    .dataframe tbody tr th {\n",
       "        vertical-align: top;\n",
       "    }\n",
       "\n",
       "    .dataframe thead th {\n",
       "        text-align: right;\n",
       "    }\n",
       "</style>\n",
       "<table border=\"1\" class=\"dataframe\">\n",
       "  <thead>\n",
       "    <tr style=\"text-align: right;\">\n",
       "      <th></th>\n",
       "      <th>Date</th>\n",
       "      <th>Year</th>\n",
       "      <th>Type</th>\n",
       "      <th>Country</th>\n",
       "      <th>Area</th>\n",
       "      <th>Location</th>\n",
       "      <th>Activity</th>\n",
       "      <th>Sex</th>\n",
       "      <th>Age</th>\n",
       "      <th>Injury</th>\n",
       "      <th>Fatal (Y/N)</th>\n",
       "      <th>Time</th>\n",
       "      <th>Species</th>\n",
       "    </tr>\n",
       "  </thead>\n",
       "  <tbody>\n",
       "    <tr>\n",
       "      <th>0</th>\n",
       "      <td>25-Jun-2018</td>\n",
       "      <td>2018.0</td>\n",
       "      <td>Boating</td>\n",
       "      <td>USA</td>\n",
       "      <td>California</td>\n",
       "      <td>Oceanside, San Diego County</td>\n",
       "      <td>Paddling</td>\n",
       "      <td>F</td>\n",
       "      <td>57</td>\n",
       "      <td>No injury to occupant, outrigger canoe and pad...</td>\n",
       "      <td>N</td>\n",
       "      <td>18h00</td>\n",
       "      <td>White shark</td>\n",
       "    </tr>\n",
       "    <tr>\n",
       "      <th>1</th>\n",
       "      <td>18-Jun-2018</td>\n",
       "      <td>2018.0</td>\n",
       "      <td>Unprovoked</td>\n",
       "      <td>USA</td>\n",
       "      <td>Georgia</td>\n",
       "      <td>St. Simon Island, Glynn County</td>\n",
       "      <td>Standing</td>\n",
       "      <td>F</td>\n",
       "      <td>11</td>\n",
       "      <td>Minor injury to left thigh</td>\n",
       "      <td>N</td>\n",
       "      <td>14h00  -15h00</td>\n",
       "      <td>NaN</td>\n",
       "    </tr>\n",
       "  </tbody>\n",
       "</table>\n",
       "</div>"
      ],
      "text/plain": [
       "          Date    Year        Type Country        Area  \\\n",
       "0  25-Jun-2018  2018.0     Boating     USA  California   \n",
       "1  18-Jun-2018  2018.0  Unprovoked     USA     Georgia   \n",
       "\n",
       "                         Location  Activity Sex  Age  \\\n",
       "0     Oceanside, San Diego County  Paddling    F  57   \n",
       "1  St. Simon Island, Glynn County  Standing    F  11   \n",
       "\n",
       "                                              Injury Fatal (Y/N)  \\\n",
       "0  No injury to occupant, outrigger canoe and pad...           N   \n",
       "1                         Minor injury to left thigh           N   \n",
       "\n",
       "            Time     Species   \n",
       "0          18h00  White shark  \n",
       "1  14h00  -15h00          NaN  "
      ]
     },
     "execution_count": 6,
     "metadata": {},
     "output_type": "execute_result"
    }
   ],
   "source": [
    "sharks.head(2)"
   ]
  },
  {
   "cell_type": "markdown",
   "metadata": {},
   "source": [
    "## Dealing with NA and null values"
   ]
  },
  {
   "cell_type": "code",
   "execution_count": 7,
   "metadata": {},
   "outputs": [],
   "source": [
    "sharks = sharks.dropna(how='all')"
   ]
  },
  {
   "cell_type": "code",
   "execution_count": 8,
   "metadata": {},
   "outputs": [
    {
     "data": {
      "text/html": [
       "<div>\n",
       "<style scoped>\n",
       "    .dataframe tbody tr th:only-of-type {\n",
       "        vertical-align: middle;\n",
       "    }\n",
       "\n",
       "    .dataframe tbody tr th {\n",
       "        vertical-align: top;\n",
       "    }\n",
       "\n",
       "    .dataframe thead th {\n",
       "        text-align: right;\n",
       "    }\n",
       "</style>\n",
       "<table border=\"1\" class=\"dataframe\">\n",
       "  <thead>\n",
       "    <tr style=\"text-align: right;\">\n",
       "      <th></th>\n",
       "      <th>Date</th>\n",
       "      <th>Year</th>\n",
       "      <th>Type</th>\n",
       "      <th>Country</th>\n",
       "      <th>Area</th>\n",
       "      <th>Location</th>\n",
       "      <th>Activity</th>\n",
       "      <th>Sex</th>\n",
       "      <th>Age</th>\n",
       "      <th>Injury</th>\n",
       "      <th>Fatal (Y/N)</th>\n",
       "      <th>Time</th>\n",
       "      <th>Species</th>\n",
       "    </tr>\n",
       "  </thead>\n",
       "  <tbody>\n",
       "    <tr>\n",
       "      <th>187</th>\n",
       "      <td>Reported 08-Jan-2017</td>\n",
       "      <td>NaN</td>\n",
       "      <td>Invalid</td>\n",
       "      <td>AUSTRALIA</td>\n",
       "      <td>Queensland</td>\n",
       "      <td>NaN</td>\n",
       "      <td>Spearfishing</td>\n",
       "      <td>M</td>\n",
       "      <td>35</td>\n",
       "      <td>No attack, shark made a threat display</td>\n",
       "      <td>NaN</td>\n",
       "      <td>NaN</td>\n",
       "      <td>Bull shark</td>\n",
       "    </tr>\n",
       "    <tr>\n",
       "      <th>6079</th>\n",
       "      <td>Reported 19-Aug-1836</td>\n",
       "      <td>NaN</td>\n",
       "      <td>Unprovoked</td>\n",
       "      <td>ENGLAND</td>\n",
       "      <td>Cumberland</td>\n",
       "      <td>Whitehaven</td>\n",
       "      <td>Swimming</td>\n",
       "      <td>M</td>\n",
       "      <td>NaN</td>\n",
       "      <td>FATAL</td>\n",
       "      <td>Y</td>\n",
       "      <td>NaN</td>\n",
       "      <td>NaN</td>\n",
       "    </tr>\n",
       "  </tbody>\n",
       "</table>\n",
       "</div>"
      ],
      "text/plain": [
       "                      Date  Year        Type    Country        Area  \\\n",
       "187   Reported 08-Jan-2017   NaN     Invalid  AUSTRALIA  Queensland   \n",
       "6079  Reported 19-Aug-1836   NaN  Unprovoked    ENGLAND  Cumberland   \n",
       "\n",
       "        Location      Activity Sex   Age  \\\n",
       "187          NaN  Spearfishing    M   35   \n",
       "6079  Whitehaven      Swimming    M  NaN   \n",
       "\n",
       "                                      Injury Fatal (Y/N) Time    Species   \n",
       "187   No attack, shark made a threat display         NaN  NaN  Bull shark  \n",
       "6079                                   FATAL           Y  NaN         NaN  "
      ]
     },
     "execution_count": 8,
     "metadata": {},
     "output_type": "execute_result"
    }
   ],
   "source": [
    "sharks[sharks.Year.isna()]"
   ]
  },
  {
   "cell_type": "markdown",
   "metadata": {},
   "source": [
    "Since it's only two values and we see the Year in the Date column, I'm going to impute them with the year manually"
   ]
  },
  {
   "cell_type": "code",
   "execution_count": 9,
   "metadata": {},
   "outputs": [],
   "source": [
    "sharks.at[187, 'Year'] = 2017\n",
    "sharks.at[6079, 'Year'] = 1836"
   ]
  },
  {
   "cell_type": "markdown",
   "metadata": {},
   "source": [
    "Seems like there is 125 rows with zero year. But the year information is partially available in Date.\n",
    "I am using regex to extract year information from Date."
   ]
  },
  {
   "cell_type": "code",
   "execution_count": 10,
   "metadata": {},
   "outputs": [
    {
     "data": {
      "text/plain": [
       "Date           125\n",
       "Year           125\n",
       "Type           125\n",
       "Country        121\n",
       "Area            99\n",
       "Location        91\n",
       "Activity       107\n",
       "Sex            117\n",
       "Age             13\n",
       "Injury         124\n",
       "Fatal (Y/N)    124\n",
       "Time             7\n",
       "Species         35\n",
       "dtype: int64"
      ]
     },
     "execution_count": 10,
     "metadata": {},
     "output_type": "execute_result"
    }
   ],
   "source": [
    "sharks[sharks.Year==0.0].count()"
   ]
  },
  {
   "cell_type": "code",
   "execution_count": 11,
   "metadata": {},
   "outputs": [
    {
     "data": {
      "text/html": [
       "<div>\n",
       "<style scoped>\n",
       "    .dataframe tbody tr th:only-of-type {\n",
       "        vertical-align: middle;\n",
       "    }\n",
       "\n",
       "    .dataframe tbody tr th {\n",
       "        vertical-align: top;\n",
       "    }\n",
       "\n",
       "    .dataframe thead th {\n",
       "        text-align: right;\n",
       "    }\n",
       "</style>\n",
       "<table border=\"1\" class=\"dataframe\">\n",
       "  <thead>\n",
       "    <tr style=\"text-align: right;\">\n",
       "      <th></th>\n",
       "      <th>Date</th>\n",
       "      <th>Year</th>\n",
       "      <th>Type</th>\n",
       "      <th>Country</th>\n",
       "      <th>Area</th>\n",
       "      <th>Location</th>\n",
       "      <th>Activity</th>\n",
       "      <th>Sex</th>\n",
       "      <th>Age</th>\n",
       "      <th>Injury</th>\n",
       "      <th>Fatal (Y/N)</th>\n",
       "      <th>Time</th>\n",
       "      <th>Species</th>\n",
       "    </tr>\n",
       "  </thead>\n",
       "  <tbody>\n",
       "    <tr>\n",
       "      <th>6177</th>\n",
       "      <td>Ca. 214 B.C.</td>\n",
       "      <td>0.0</td>\n",
       "      <td>Unprovoked</td>\n",
       "      <td>NaN</td>\n",
       "      <td>Ionian Sea</td>\n",
       "      <td>NaN</td>\n",
       "      <td>Ascending from a dive</td>\n",
       "      <td>M</td>\n",
       "      <td>NaN</td>\n",
       "      <td>FATAL, shark/s bit him in two</td>\n",
       "      <td>Y</td>\n",
       "      <td>NaN</td>\n",
       "      <td>NaN</td>\n",
       "    </tr>\n",
       "    <tr>\n",
       "      <th>6178</th>\n",
       "      <td>Ca. 336.B.C..</td>\n",
       "      <td>0.0</td>\n",
       "      <td>Unprovoked</td>\n",
       "      <td>GREECE</td>\n",
       "      <td>Piraeus</td>\n",
       "      <td>In the haven of Cantharus</td>\n",
       "      <td>Washing his pig in preparation for a religious...</td>\n",
       "      <td>M</td>\n",
       "      <td>NaN</td>\n",
       "      <td>FATAL, shark \"bit off all lower parts of him u...</td>\n",
       "      <td>Y</td>\n",
       "      <td>NaN</td>\n",
       "      <td>NaN</td>\n",
       "    </tr>\n",
       "  </tbody>\n",
       "</table>\n",
       "</div>"
      ],
      "text/plain": [
       "               Date  Year        Type Country        Area  \\\n",
       "6177   Ca. 214 B.C.   0.0  Unprovoked     NaN  Ionian Sea   \n",
       "6178  Ca. 336.B.C..   0.0  Unprovoked  GREECE     Piraeus   \n",
       "\n",
       "                       Location  \\\n",
       "6177                        NaN   \n",
       "6178  In the haven of Cantharus   \n",
       "\n",
       "                                               Activity Sex   Age  \\\n",
       "6177                              Ascending from a dive    M  NaN   \n",
       "6178  Washing his pig in preparation for a religious...    M  NaN   \n",
       "\n",
       "                                                 Injury Fatal (Y/N) Time  \\\n",
       "6177                      FATAL, shark/s bit him in two           Y  NaN   \n",
       "6178  FATAL, shark \"bit off all lower parts of him u...           Y  NaN   \n",
       "\n",
       "     Species   \n",
       "6177      NaN  \n",
       "6178      NaN  "
      ]
     },
     "execution_count": 11,
     "metadata": {},
     "output_type": "execute_result"
    }
   ],
   "source": [
    "sharks[sharks.Year==0.0].head(2)"
   ]
  },
  {
   "cell_type": "code",
   "execution_count": 12,
   "metadata": {},
   "outputs": [],
   "source": [
    "# cast year to integer instead of float\n",
    "sharks['Year'] = sharks['Year'].apply(np.int64)"
   ]
  },
  {
   "cell_type": "code",
   "execution_count": 13,
   "metadata": {},
   "outputs": [],
   "source": [
    "def extract_year(col): \n",
    "    '''Extracting the year from Date information'''\n",
    "    x = re.findall(\"\\d{4}\", col)\n",
    "    if len(x) == 0:\n",
    "        return 0\n",
    "    return int(x[-1])"
   ]
  },
  {
   "cell_type": "code",
   "execution_count": 14,
   "metadata": {},
   "outputs": [],
   "source": [
    "year_0 = sharks.Year == 0\n",
    "col = 'Year'\n",
    "sharks.loc[year_0, col] = [extract_year(x) for x in sharks.loc[year_0, 'Date'].values]"
   ]
  },
  {
   "cell_type": "code",
   "execution_count": 15,
   "metadata": {},
   "outputs": [
    {
     "data": {
      "text/html": [
       "<div>\n",
       "<style scoped>\n",
       "    .dataframe tbody tr th:only-of-type {\n",
       "        vertical-align: middle;\n",
       "    }\n",
       "\n",
       "    .dataframe tbody tr th {\n",
       "        vertical-align: top;\n",
       "    }\n",
       "\n",
       "    .dataframe thead th {\n",
       "        text-align: right;\n",
       "    }\n",
       "</style>\n",
       "<table border=\"1\" class=\"dataframe\">\n",
       "  <thead>\n",
       "    <tr style=\"text-align: right;\">\n",
       "      <th></th>\n",
       "      <th>Date</th>\n",
       "      <th>Year</th>\n",
       "      <th>Type</th>\n",
       "      <th>Country</th>\n",
       "      <th>Area</th>\n",
       "      <th>Location</th>\n",
       "      <th>Activity</th>\n",
       "      <th>Sex</th>\n",
       "      <th>Age</th>\n",
       "      <th>Injury</th>\n",
       "      <th>Fatal (Y/N)</th>\n",
       "      <th>Time</th>\n",
       "      <th>Species</th>\n",
       "    </tr>\n",
       "  </thead>\n",
       "  <tbody>\n",
       "    <tr>\n",
       "      <th>6177</th>\n",
       "      <td>Ca. 214 B.C.</td>\n",
       "      <td>0</td>\n",
       "      <td>Unprovoked</td>\n",
       "      <td>NaN</td>\n",
       "      <td>Ionian Sea</td>\n",
       "      <td>NaN</td>\n",
       "      <td>Ascending from a dive</td>\n",
       "      <td>M</td>\n",
       "      <td>NaN</td>\n",
       "      <td>FATAL, shark/s bit him in two</td>\n",
       "      <td>Y</td>\n",
       "      <td>NaN</td>\n",
       "      <td>NaN</td>\n",
       "    </tr>\n",
       "    <tr>\n",
       "      <th>6178</th>\n",
       "      <td>Ca. 336.B.C..</td>\n",
       "      <td>0</td>\n",
       "      <td>Unprovoked</td>\n",
       "      <td>GREECE</td>\n",
       "      <td>Piraeus</td>\n",
       "      <td>In the haven of Cantharus</td>\n",
       "      <td>Washing his pig in preparation for a religious...</td>\n",
       "      <td>M</td>\n",
       "      <td>NaN</td>\n",
       "      <td>FATAL, shark \"bit off all lower parts of him u...</td>\n",
       "      <td>Y</td>\n",
       "      <td>NaN</td>\n",
       "      <td>NaN</td>\n",
       "    </tr>\n",
       "  </tbody>\n",
       "</table>\n",
       "</div>"
      ],
      "text/plain": [
       "               Date  Year        Type Country        Area  \\\n",
       "6177   Ca. 214 B.C.     0  Unprovoked     NaN  Ionian Sea   \n",
       "6178  Ca. 336.B.C..     0  Unprovoked  GREECE     Piraeus   \n",
       "\n",
       "                       Location  \\\n",
       "6177                        NaN   \n",
       "6178  In the haven of Cantharus   \n",
       "\n",
       "                                               Activity Sex   Age  \\\n",
       "6177                              Ascending from a dive    M  NaN   \n",
       "6178  Washing his pig in preparation for a religious...    M  NaN   \n",
       "\n",
       "                                                 Injury Fatal (Y/N) Time  \\\n",
       "6177                      FATAL, shark/s bit him in two           Y  NaN   \n",
       "6178  FATAL, shark \"bit off all lower parts of him u...           Y  NaN   \n",
       "\n",
       "     Species   \n",
       "6177      NaN  \n",
       "6178      NaN  "
      ]
     },
     "execution_count": 15,
     "metadata": {},
     "output_type": "execute_result"
    }
   ],
   "source": [
    "sharks[sharks['Year'] == 0].head(2)"
   ]
  },
  {
   "cell_type": "code",
   "execution_count": 16,
   "metadata": {},
   "outputs": [],
   "source": [
    "# Dropping the rest of year = 0\n",
    "sharks.drop(sharks[sharks.Year == 0].index, inplace=True)"
   ]
  },
  {
   "cell_type": "code",
   "execution_count": 17,
   "metadata": {},
   "outputs": [],
   "source": [
    "#sharks[sharks.Type.isna()]"
   ]
  },
  {
   "cell_type": "code",
   "execution_count": 18,
   "metadata": {},
   "outputs": [
    {
     "data": {
      "text/plain": [
       "array(['Boating', 'Unprovoked', 'Invalid', 'Provoked', 'Questionable',\n",
       "       'Sea Disaster', nan, 'Boat', 'Boatomg'], dtype=object)"
      ]
     },
     "execution_count": 18,
     "metadata": {},
     "output_type": "execute_result"
    }
   ],
   "source": [
    "sharks.Type.unique()"
   ]
  },
  {
   "cell_type": "code",
   "execution_count": 19,
   "metadata": {},
   "outputs": [],
   "source": [
    "# change Nan to Questionable and Boatomg to Boat"
   ]
  },
  {
   "cell_type": "code",
   "execution_count": 20,
   "metadata": {},
   "outputs": [
    {
     "data": {
      "text/html": [
       "<div>\n",
       "<style scoped>\n",
       "    .dataframe tbody tr th:only-of-type {\n",
       "        vertical-align: middle;\n",
       "    }\n",
       "\n",
       "    .dataframe tbody tr th {\n",
       "        vertical-align: top;\n",
       "    }\n",
       "\n",
       "    .dataframe thead th {\n",
       "        text-align: right;\n",
       "    }\n",
       "</style>\n",
       "<table border=\"1\" class=\"dataframe\">\n",
       "  <thead>\n",
       "    <tr style=\"text-align: right;\">\n",
       "      <th></th>\n",
       "      <th>Date</th>\n",
       "      <th>Year</th>\n",
       "      <th>Type</th>\n",
       "      <th>Country</th>\n",
       "      <th>Area</th>\n",
       "      <th>Location</th>\n",
       "      <th>Activity</th>\n",
       "      <th>Sex</th>\n",
       "      <th>Age</th>\n",
       "      <th>Injury</th>\n",
       "      <th>Fatal (Y/N)</th>\n",
       "      <th>Time</th>\n",
       "      <th>Species</th>\n",
       "    </tr>\n",
       "  </thead>\n",
       "  <tbody>\n",
       "    <tr>\n",
       "      <th>538</th>\n",
       "      <td>Reported 27-Jun-2014</td>\n",
       "      <td>2014</td>\n",
       "      <td>Boat</td>\n",
       "      <td>ST. MARTIN</td>\n",
       "      <td>NaN</td>\n",
       "      <td>20 miles from shore</td>\n",
       "      <td>Transatlantic Rowing</td>\n",
       "      <td>M</td>\n",
       "      <td>48</td>\n",
       "      <td>His boat was holed by a shark</td>\n",
       "      <td>N</td>\n",
       "      <td>NaN</td>\n",
       "      <td>Oceanic whitetip shark'</td>\n",
       "    </tr>\n",
       "    <tr>\n",
       "      <th>565</th>\n",
       "      <td>Reported 12-Apr-2014</td>\n",
       "      <td>2014</td>\n",
       "      <td>Boat</td>\n",
       "      <td>SOUTH AFRICA</td>\n",
       "      <td>NaN</td>\n",
       "      <td>NaN</td>\n",
       "      <td>Shark watching</td>\n",
       "      <td>NaN</td>\n",
       "      <td>NaN</td>\n",
       "      <td>No injury to occupants, shark bit pontoon</td>\n",
       "      <td>N</td>\n",
       "      <td>NaN</td>\n",
       "      <td>White shark</td>\n",
       "    </tr>\n",
       "  </tbody>\n",
       "</table>\n",
       "</div>"
      ],
      "text/plain": [
       "                     Date  Year  Type       Country Area             Location  \\\n",
       "538  Reported 27-Jun-2014  2014  Boat    ST. MARTIN  NaN  20 miles from shore   \n",
       "565  Reported 12-Apr-2014  2014  Boat  SOUTH AFRICA  NaN                  NaN   \n",
       "\n",
       "                 Activity Sex   Age  \\\n",
       "538  Transatlantic Rowing    M   48   \n",
       "565        Shark watching  NaN  NaN   \n",
       "\n",
       "                                        Injury Fatal (Y/N) Time  \\\n",
       "538              His boat was holed by a shark           N  NaN   \n",
       "565  No injury to occupants, shark bit pontoon           N  NaN   \n",
       "\n",
       "                    Species   \n",
       "538  Oceanic whitetip shark'  \n",
       "565              White shark  "
      ]
     },
     "execution_count": 20,
     "metadata": {},
     "output_type": "execute_result"
    }
   ],
   "source": [
    "sharks[sharks.Type=='Boat'].head(2)"
   ]
  },
  {
   "cell_type": "code",
   "execution_count": 21,
   "metadata": {},
   "outputs": [],
   "source": [
    "sharks.loc[sharks.Type.isna(), 'Type'] = 'Questionable'"
   ]
  },
  {
   "cell_type": "code",
   "execution_count": 22,
   "metadata": {},
   "outputs": [],
   "source": [
    "sharks.loc[sharks.Type=='Boatomg', 'Type'] = 'Boat'\n",
    "sharks.loc[sharks.Type=='Boating', 'Type'] = 'Boat'"
   ]
  },
  {
   "cell_type": "code",
   "execution_count": 23,
   "metadata": {},
   "outputs": [
    {
     "data": {
      "text/plain": [
       "Date           49\n",
       "Year           49\n",
       "Type           49\n",
       "Country         0\n",
       "Area           14\n",
       "Location       11\n",
       "Activity       42\n",
       "Sex            45\n",
       "Age             9\n",
       "Injury         47\n",
       "Fatal (Y/N)    44\n",
       "Time            7\n",
       "Species        12\n",
       "dtype: int64"
      ]
     },
     "execution_count": 23,
     "metadata": {},
     "output_type": "execute_result"
    }
   ],
   "source": [
    "# there is 49 NA in country, I will ignore it for now\n",
    "sharks[sharks.Country.isna()].count()"
   ]
  },
  {
   "cell_type": "code",
   "execution_count": 24,
   "metadata": {},
   "outputs": [],
   "source": [
    "#sharks.Country.unique()"
   ]
  },
  {
   "cell_type": "code",
   "execution_count": 25,
   "metadata": {},
   "outputs": [],
   "source": [
    "sharks.loc[sharks.Country==' PHILIPPINES', 'Country'] = 'PHILIPPINES'\n",
    "sharks.loc[sharks.Country=='RED SEA?', 'Country'] = 'RED SEA'"
   ]
  },
  {
   "cell_type": "markdown",
   "metadata": {},
   "source": [
    "## Textural data cleaning"
   ]
  },
  {
   "cell_type": "code",
   "execution_count": 26,
   "metadata": {},
   "outputs": [],
   "source": [
    "act = sharks.groupby('Activity').count()"
   ]
  },
  {
   "cell_type": "code",
   "execution_count": 27,
   "metadata": {},
   "outputs": [],
   "source": [
    "#act.sort_values('Date', ascending=False)"
   ]
  },
  {
   "cell_type": "code",
   "execution_count": 28,
   "metadata": {},
   "outputs": [],
   "source": [
    "# Replacing text if there is word fishing with 'Fishing'\n",
    "def fishing(col): \n",
    "    try:\n",
    "        x = re.findall(\"Fishing\", col)\n",
    "        if len(x) == 0:\n",
    "            return col\n",
    "        return 'Fishing'\n",
    "    except:\n",
    "        return col\n",
    "\n",
    "col = 'Activity'\n",
    "sharks.loc[:, col] = [fishing(x) for x in sharks.loc[:, col].values]"
   ]
  },
  {
   "cell_type": "code",
   "execution_count": 29,
   "metadata": {},
   "outputs": [],
   "source": [
    "sharks.loc[sharks.Activity=='Freediving', 'Activity'] = 'Free diving' "
   ]
  },
  {
   "cell_type": "code",
   "execution_count": 30,
   "metadata": {},
   "outputs": [
    {
     "data": {
      "text/plain": [
       "Activity\n",
       "Surfing         971\n",
       "Swimming        869\n",
       "Fishing         633\n",
       "Spearfishing    333\n",
       "Bathing         162\n",
       "dtype: int64"
      ]
     },
     "execution_count": 30,
     "metadata": {},
     "output_type": "execute_result"
    }
   ],
   "source": [
    "spec = sharks.groupby('Activity').size()\n",
    "spec.sort_values(ascending=False).head(5)"
   ]
  },
  {
   "cell_type": "code",
   "execution_count": 31,
   "metadata": {},
   "outputs": [
    {
     "data": {
      "text/html": [
       "<div>\n",
       "<style scoped>\n",
       "    .dataframe tbody tr th:only-of-type {\n",
       "        vertical-align: middle;\n",
       "    }\n",
       "\n",
       "    .dataframe tbody tr th {\n",
       "        vertical-align: top;\n",
       "    }\n",
       "\n",
       "    .dataframe thead th {\n",
       "        text-align: right;\n",
       "    }\n",
       "</style>\n",
       "<table border=\"1\" class=\"dataframe\">\n",
       "  <thead>\n",
       "    <tr style=\"text-align: right;\">\n",
       "      <th></th>\n",
       "      <th>Date</th>\n",
       "      <th>Year</th>\n",
       "      <th>Type</th>\n",
       "      <th>Country</th>\n",
       "      <th>Area</th>\n",
       "      <th>Location</th>\n",
       "      <th>Activity</th>\n",
       "      <th>Sex</th>\n",
       "      <th>Age</th>\n",
       "      <th>Injury</th>\n",
       "      <th>Fatal (Y/N)</th>\n",
       "      <th>Time</th>\n",
       "      <th>Species</th>\n",
       "    </tr>\n",
       "  </thead>\n",
       "  <tbody>\n",
       "    <tr>\n",
       "      <th>2613</th>\n",
       "      <td>03-Nov-1990</td>\n",
       "      <td>1990</td>\n",
       "      <td>Unprovoked</td>\n",
       "      <td>USA</td>\n",
       "      <td>California</td>\n",
       "      <td>Monastery Beach, Carmel Bay, Monterey County</td>\n",
       "      <td>Scuba diving (but on surface)</td>\n",
       "      <td>F</td>\n",
       "      <td>NaN</td>\n",
       "      <td>Leg bitten</td>\n",
       "      <td>N</td>\n",
       "      <td>15h00</td>\n",
       "      <td>4 m to 5 m [13' to 16.5'] white shark</td>\n",
       "    </tr>\n",
       "    <tr>\n",
       "      <th>2631</th>\n",
       "      <td>24-Jun-1990</td>\n",
       "      <td>1990</td>\n",
       "      <td>Unprovoked</td>\n",
       "      <td>SOUTH AFRICA</td>\n",
       "      <td>Western Cape Province</td>\n",
       "      <td>Mossel Bay</td>\n",
       "      <td>Scuba diving (but on surface)</td>\n",
       "      <td>F</td>\n",
       "      <td>21</td>\n",
       "      <td>FATAL, thigh bitten</td>\n",
       "      <td>Y</td>\n",
       "      <td>15h45</td>\n",
       "      <td>4.5 m [14'9\"] white shark</td>\n",
       "    </tr>\n",
       "    <tr>\n",
       "      <th>3252</th>\n",
       "      <td>02-Sep-1974</td>\n",
       "      <td>1974</td>\n",
       "      <td>Unprovoked</td>\n",
       "      <td>USA</td>\n",
       "      <td>California</td>\n",
       "      <td>Franklin Point, San Mateo County</td>\n",
       "      <td>Scuba diving (but on surface)</td>\n",
       "      <td>M</td>\n",
       "      <td>41</td>\n",
       "      <td>Minor injuries to hand</td>\n",
       "      <td>N</td>\n",
       "      <td>17h30</td>\n",
       "      <td>White shark, 5 m to 6 m [16.5 to 20']</td>\n",
       "    </tr>\n",
       "    <tr>\n",
       "      <th>3253</th>\n",
       "      <td>02-Sep-1974</td>\n",
       "      <td>1974</td>\n",
       "      <td>Unprovoked</td>\n",
       "      <td>USA</td>\n",
       "      <td>California</td>\n",
       "      <td>Franklin Point, San Mateo County</td>\n",
       "      <td>Scuba diving (but on surface)</td>\n",
       "      <td>M</td>\n",
       "      <td>48</td>\n",
       "      <td>Minor bite on foot &amp; swimfin</td>\n",
       "      <td>N</td>\n",
       "      <td>17h30</td>\n",
       "      <td>White shark, 5 m to 6 m [16.5 to 20']</td>\n",
       "    </tr>\n",
       "  </tbody>\n",
       "</table>\n",
       "</div>"
      ],
      "text/plain": [
       "             Date  Year        Type       Country                   Area  \\\n",
       "2613  03-Nov-1990  1990  Unprovoked           USA             California   \n",
       "2631  24-Jun-1990  1990  Unprovoked  SOUTH AFRICA  Western Cape Province   \n",
       "3252  02-Sep-1974  1974  Unprovoked           USA             California   \n",
       "3253  02-Sep-1974  1974  Unprovoked           USA             California   \n",
       "\n",
       "                                          Location  \\\n",
       "2613  Monastery Beach, Carmel Bay, Monterey County   \n",
       "2631                                    Mossel Bay   \n",
       "3252              Franklin Point, San Mateo County   \n",
       "3253              Franklin Point, San Mateo County   \n",
       "\n",
       "                           Activity Sex   Age                        Injury  \\\n",
       "2613  Scuba diving (but on surface)    F  NaN                    Leg bitten   \n",
       "2631  Scuba diving (but on surface)    F   21         FATAL, thigh bitten     \n",
       "3252  Scuba diving (but on surface)    M   41        Minor injuries to hand   \n",
       "3253  Scuba diving (but on surface)    M   48  Minor bite on foot & swimfin   \n",
       "\n",
       "     Fatal (Y/N)   Time                                Species   \n",
       "2613           N  15h00   4 m to 5 m [13' to 16.5'] white shark  \n",
       "2631           Y  15h45               4.5 m [14'9\"] white shark  \n",
       "3252           N  17h30  White shark, 5 m to 6 m [16.5 to 20']   \n",
       "3253           N  17h30  White shark, 5 m to 6 m [16.5 to 20']   "
      ]
     },
     "execution_count": 31,
     "metadata": {},
     "output_type": "execute_result"
    }
   ],
   "source": [
    "sharks[sharks['Activity']=='Scuba diving (but on surface)']"
   ]
  },
  {
   "cell_type": "code",
   "execution_count": 32,
   "metadata": {},
   "outputs": [
    {
     "data": {
      "text/html": [
       "<div>\n",
       "<style scoped>\n",
       "    .dataframe tbody tr th:only-of-type {\n",
       "        vertical-align: middle;\n",
       "    }\n",
       "\n",
       "    .dataframe tbody tr th {\n",
       "        vertical-align: top;\n",
       "    }\n",
       "\n",
       "    .dataframe thead th {\n",
       "        text-align: right;\n",
       "    }\n",
       "</style>\n",
       "<table border=\"1\" class=\"dataframe\">\n",
       "  <thead>\n",
       "    <tr style=\"text-align: right;\">\n",
       "      <th></th>\n",
       "      <th>Date</th>\n",
       "      <th>Year</th>\n",
       "      <th>Type</th>\n",
       "      <th>Country</th>\n",
       "      <th>Area</th>\n",
       "      <th>Location</th>\n",
       "      <th>Activity</th>\n",
       "      <th>Sex</th>\n",
       "      <th>Age</th>\n",
       "      <th>Injury</th>\n",
       "      <th>Fatal (Y/N)</th>\n",
       "      <th>Time</th>\n",
       "      <th>Species</th>\n",
       "    </tr>\n",
       "  </thead>\n",
       "  <tbody>\n",
       "    <tr>\n",
       "      <th>2524</th>\n",
       "      <td>11-Nov-1992</td>\n",
       "      <td>1992</td>\n",
       "      <td>Unprovoked</td>\n",
       "      <td>USA</td>\n",
       "      <td>California</td>\n",
       "      <td>San Nicholas Island, Santa Barbara County</td>\n",
       "      <td>Scuba diving (submerged)</td>\n",
       "      <td>M</td>\n",
       "      <td>40</td>\n",
       "      <td>Foot punctured</td>\n",
       "      <td>N</td>\n",
       "      <td>14h00</td>\n",
       "      <td>Unidentified shark</td>\n",
       "    </tr>\n",
       "    <tr>\n",
       "      <th>2993</th>\n",
       "      <td>07-Feb-1982</td>\n",
       "      <td>1982</td>\n",
       "      <td>Unprovoked</td>\n",
       "      <td>USA</td>\n",
       "      <td>California</td>\n",
       "      <td>Stillwater Cove, Sonoma County</td>\n",
       "      <td>Scuba diving (submerged)</td>\n",
       "      <td>M</td>\n",
       "      <td>NaN</td>\n",
       "      <td>Calf &amp; ankle bitten</td>\n",
       "      <td>N</td>\n",
       "      <td>11h00</td>\n",
       "      <td>5 m [16.5'] white shark</td>\n",
       "    </tr>\n",
       "    <tr>\n",
       "      <th>3103</th>\n",
       "      <td>11-Mar-1979</td>\n",
       "      <td>1979</td>\n",
       "      <td>Unprovoked</td>\n",
       "      <td>USA</td>\n",
       "      <td>California</td>\n",
       "      <td>Ano Nuevo Island, San Mateo, County</td>\n",
       "      <td>Scuba diving (submerged)</td>\n",
       "      <td>M</td>\n",
       "      <td>NaN</td>\n",
       "      <td>No injury, swim fin bitten</td>\n",
       "      <td>N</td>\n",
       "      <td>10h00</td>\n",
       "      <td>White shark, 4 m to 5 m [13' to 16.5']</td>\n",
       "    </tr>\n",
       "    <tr>\n",
       "      <th>3309</th>\n",
       "      <td>1973</td>\n",
       "      <td>1973</td>\n",
       "      <td>Unprovoked</td>\n",
       "      <td>PALAU</td>\n",
       "      <td>Aulong Island</td>\n",
       "      <td>Aulong Channel</td>\n",
       "      <td>Scuba diving (submerged)</td>\n",
       "      <td>M</td>\n",
       "      <td>NaN</td>\n",
       "      <td>No injury, shark grabbed scuba tank and descen...</td>\n",
       "      <td>N</td>\n",
       "      <td>NaN</td>\n",
       "      <td>Tiger shark</td>\n",
       "    </tr>\n",
       "  </tbody>\n",
       "</table>\n",
       "</div>"
      ],
      "text/plain": [
       "             Date  Year        Type Country           Area  \\\n",
       "2524  11-Nov-1992  1992  Unprovoked     USA     California   \n",
       "2993  07-Feb-1982  1982  Unprovoked     USA     California   \n",
       "3103  11-Mar-1979  1979  Unprovoked     USA     California   \n",
       "3309         1973  1973  Unprovoked   PALAU  Aulong Island   \n",
       "\n",
       "                                       Location                  Activity  \\\n",
       "2524  San Nicholas Island, Santa Barbara County  Scuba diving (submerged)   \n",
       "2993             Stillwater Cove, Sonoma County  Scuba diving (submerged)   \n",
       "3103        Ano Nuevo Island, San Mateo, County  Scuba diving (submerged)   \n",
       "3309                             Aulong Channel  Scuba diving (submerged)   \n",
       "\n",
       "     Sex   Age                                             Injury Fatal (Y/N)  \\\n",
       "2524    M   40                                     Foot punctured           N   \n",
       "2993    M  NaN                                Calf & ankle bitten           N   \n",
       "3103    M  NaN                         No injury, swim fin bitten           N   \n",
       "3309    M  NaN  No injury, shark grabbed scuba tank and descen...           N   \n",
       "\n",
       "       Time                                 Species   \n",
       "2524  14h00                       Unidentified shark  \n",
       "2993  11h00                  5 m [16.5'] white shark  \n",
       "3103  10h00  White shark, 4 m to 5 m [13' to 16.5']   \n",
       "3309    NaN                              Tiger shark  "
      ]
     },
     "execution_count": 32,
     "metadata": {},
     "output_type": "execute_result"
    }
   ],
   "source": [
    "sharks[sharks['Activity']=='Scuba diving (submerged)']"
   ]
  },
  {
   "cell_type": "code",
   "execution_count": 33,
   "metadata": {},
   "outputs": [],
   "source": [
    "def activity(col, word, to_replace): \n",
    "    try:\n",
    "        x = re.findall(f'({word})|({word.lower()})', col)\n",
    "        if len(x) == 0:\n",
    "            return col\n",
    "\n",
    "        return to_replace\n",
    "    except:\n",
    "        return col\n",
    "\n",
    "col = 'Activity'\n",
    "word = \"Swimming\"\n",
    "sharks.loc[:, col] = [activity(x, word, word) for x in sharks.loc[:, col].values]"
   ]
  },
  {
   "cell_type": "code",
   "execution_count": 34,
   "metadata": {},
   "outputs": [],
   "source": [
    "word = 'Boogie Boarding'\n",
    "sharks.loc[:, col] = [activity(x, word, word) for x in sharks.loc[:, col].values]"
   ]
  },
  {
   "cell_type": "code",
   "execution_count": 35,
   "metadata": {},
   "outputs": [],
   "source": [
    "word = 'Kite surfing'\n",
    "to_replace = 'Kite Surfing'\n",
    "sharks.loc[:, col] = [activity(x, word, to_replace) for x in sharks.loc[:, col].values]"
   ]
  },
  {
   "cell_type": "code",
   "execution_count": 36,
   "metadata": {},
   "outputs": [],
   "source": [
    "word = 'Sea disaster'\n",
    "to_replace = 'Sea Disaster'\n",
    "sharks.loc[:, col] = [activity(x, word, to_replace) for x in sharks.loc[:, col].values]"
   ]
  },
  {
   "cell_type": "code",
   "execution_count": 37,
   "metadata": {},
   "outputs": [],
   "source": [
    "word = 'Surfing'\n",
    "to_replace = 'Surfing'\n",
    "sharks.loc[:, col] = [activity(x, word, to_replace) for x in sharks.loc[:, col].values]"
   ]
  },
  {
   "cell_type": "code",
   "execution_count": 38,
   "metadata": {},
   "outputs": [],
   "source": [
    "word = 'Surf-skiing'\n",
    "to_replace = 'Surf skiing'\n",
    "sharks.loc[:, col] = [activity(x, word, to_replace) for x in sharks.loc[:, col].values]"
   ]
  },
  {
   "cell_type": "code",
   "execution_count": 39,
   "metadata": {},
   "outputs": [],
   "source": [
    "word = 'Scuba Diving'\n",
    "to_replace = 'Scuba'\n",
    "sharks.loc[:, col] = [activity(x, word, to_replace) for x in sharks.loc[:, col].values]"
   ]
  },
  {
   "cell_type": "code",
   "execution_count": 40,
   "metadata": {},
   "outputs": [],
   "source": [
    "word = 'Skin diving'\n",
    "to_replace = 'Skin Diving'\n",
    "sharks.loc[:, col] = [activity(x, word, to_replace) for x in sharks.loc[:, col].values]"
   ]
  },
  {
   "cell_type": "code",
   "execution_count": 41,
   "metadata": {},
   "outputs": [],
   "source": [
    "word = 'Sitting on surfboard'\n",
    "to_replace = 'Surfing'\n",
    "sharks.loc[:, col] = [activity(x, word, to_replace) for x in sharks.loc[:, col].values]"
   ]
  },
  {
   "cell_type": "code",
   "execution_count": 42,
   "metadata": {},
   "outputs": [],
   "source": [
    "word = 'Body-boarding'\n",
    "to_replace = 'Surfing'\n",
    "sharks.loc[:, col] = [activity(x, word, to_replace) for x in sharks.loc[:, col].values]"
   ]
  },
  {
   "cell_type": "code",
   "execution_count": 43,
   "metadata": {},
   "outputs": [],
   "source": [
    "word = 'Floating on his back'\n",
    "to_replace = 'Bathing'\n",
    "sharks.loc[:, col] = [activity(x, word, to_replace) for x in sharks.loc[:, col].values]"
   ]
  },
  {
   "cell_type": "code",
   "execution_count": 44,
   "metadata": {},
   "outputs": [],
   "source": [
    "word = 'Playing'\n",
    "to_replace = 'Bathing'\n",
    "sharks.loc[:, col] = [activity(x, word, to_replace) for x in sharks.loc[:, col].values]"
   ]
  },
  {
   "cell_type": "code",
   "execution_count": 45,
   "metadata": {},
   "outputs": [],
   "source": [
    "sharks.rename(index=str, columns={\"Sex \": \"Sex\", \"Species \": \"Species\"}, inplace=True)"
   ]
  },
  {
   "cell_type": "code",
   "execution_count": 46,
   "metadata": {},
   "outputs": [
    {
     "data": {
      "text/plain": [
       "Index(['Date', 'Year', 'Type', 'Country', 'Area', 'Location', 'Activity',\n",
       "       'Sex', 'Age', 'Injury', 'Fatal (Y/N)', 'Time', 'Species'],\n",
       "      dtype='object')"
      ]
     },
     "execution_count": 46,
     "metadata": {},
     "output_type": "execute_result"
    }
   ],
   "source": [
    "sharks.columns"
   ]
  },
  {
   "cell_type": "code",
   "execution_count": 47,
   "metadata": {},
   "outputs": [
    {
     "data": {
      "text/plain": [
       "array(['F', 'M', nan, 'M ', 'lli', 'N', '.'], dtype=object)"
      ]
     },
     "execution_count": 47,
     "metadata": {},
     "output_type": "execute_result"
    }
   ],
   "source": [
    "sharks.Sex.unique()"
   ]
  },
  {
   "cell_type": "code",
   "execution_count": 48,
   "metadata": {},
   "outputs": [],
   "source": [
    "sharks.loc[sharks.Sex=='M ', 'Sex'] = 'M' \n",
    "sharks.loc[sharks.Sex=='lli', 'Sex'] = None\n",
    "sharks.loc[sharks.Sex=='.', 'Sex'] = None"
   ]
  },
  {
   "cell_type": "code",
   "execution_count": 49,
   "metadata": {},
   "outputs": [],
   "source": [
    "#sharks[sharks.Sex.isna()].count()"
   ]
  },
  {
   "cell_type": "code",
   "execution_count": 50,
   "metadata": {},
   "outputs": [],
   "source": [
    "#sharks.Age.unique()"
   ]
  },
  {
   "cell_type": "code",
   "execution_count": 51,
   "metadata": {},
   "outputs": [],
   "source": [
    "sharks.loc[sharks.Age=='60s', 'Age'] = '60'\n",
    "sharks.loc[sharks.Age==\"60's\", 'Age'] = '60'\n",
    "sharks.loc[sharks.Age=='50s', 'Age'] = '50' \n",
    "sharks.loc[sharks.Age=='40s', 'Age'] = '40'\n",
    "sharks.loc[sharks.Age=='30s', 'Age'] = '30' \n",
    "sharks.loc[sharks.Age=='20s', 'Age'] = '20' \n",
    "sharks.loc[sharks.Age=='Teen', 'Age'] = '15'\n",
    "sharks.loc[sharks.Age=='teen', 'Age'] = '15'\n",
    "sharks.loc[sharks.Age=='Teens', 'Age'] = '15'\n",
    "sharks.loc[sharks.Age=='18 months', 'Age'] = '1'\n",
    "sharks.loc[sharks.Age=='\\xa0 ', 'Age'] = None\n",
    "sharks.loc[sharks.Age=='MAKE LINE GREEN', 'Age'] = None\n",
    "sharks.loc[sharks.Age=='A.M.', 'Age'] = None\n",
    "sharks.loc[sharks.Age=='X', 'Age'] = None\n",
    "sharks.loc[sharks.Age=='F', 'Age'] = None\n",
    "sharks.loc[sharks.Age=='mid-30s', 'Age'] = '35'\n",
    "sharks.loc[sharks.Age=='28 & 26', 'Age'] = '27'\n",
    "sharks.loc[sharks.Age=='18 or 20', 'Age'] = '19'\n",
    "sharks.loc[sharks.Age=='12 or 13', 'Age'] = '13'\n",
    "sharks.loc[sharks.Age=='46 & 34', 'Age'] = '40'\n",
    "sharks.loc[sharks.Age=='28, 23 & 30', 'Age'] = '27'\n",
    "sharks.loc[sharks.Age=='30 or 36', 'Age'] = '33'\n",
    "sharks.loc[sharks.Age=='6½', 'Age'] = '6'\n",
    "sharks.loc[sharks.Age=='23 & 20', 'Age'] = '21'\n",
    "sharks.loc[sharks.Age=='8 or 10', 'Age'] = '9'\n",
    "sharks.loc[sharks.Age=='7      &    31', 'Age'] = '31'\n",
    "sharks.loc[sharks.Age=='20?', 'Age'] = '20'\n",
    "sharks.loc[sharks.Age=='21 & ?', 'Age'] = '21'\n",
    "sharks.loc[sharks.Age=='36 & 26', 'Age'] = '31'\n",
    "sharks.loc[sharks.Age=='32 & 30', 'Age'] = '31'\n",
    "sharks.loc[sharks.Age=='33 or 37', 'Age'] = '35'\n",
    "sharks.loc[sharks.Age=='16 to 18', 'Age'] = '17'\n",
    "sharks.loc[sharks.Age=='13 or 18', 'Age'] = '15'\n",
    "sharks.loc[sharks.Age==' ', 'Age'] = None\n",
    "sharks.loc[sharks.Age==' 30', 'Age'] = '30'\n",
    "sharks.loc[sharks.Age=='mid-20s', 'Age'] = '25'\n",
    "sharks.loc[sharks.Age=='18 to 22', 'Age'] = '20'\n",
    "sharks.loc[sharks.Age=='Ca. 33', 'Age'] = '33'\n",
    "sharks.loc[sharks.Age=='74 ', 'Age'] = '74'\n",
    "sharks.loc[sharks.Age=='45 ', 'Age'] = '45'\n",
    "sharks.loc[sharks.Age=='21 or 26', 'Age'] = '24'\n",
    "sharks.loc[sharks.Age=='20 ', 'Age'] = '20'\n",
    "sharks.loc[sharks.Age=='>50', 'Age'] = '51'\n",
    "sharks.loc[sharks.Age=='>50', 'Age'] = '51'\n",
    "sharks.loc[sharks.Age=='9 & 12', 'Age'] = '11'\n",
    "sharks.loc[sharks.Age=='? & 19', 'Age'] = '19'\n",
    "sharks.loc[sharks.Age=='9 months', 'Age'] = '1'\n",
    "sharks.loc[sharks.Age=='25 to 35', 'Age'] = '30'\n",
    "sharks.loc[sharks.Age=='23 & 26', 'Age'] = '24'\n",
    "sharks.loc[sharks.Age=='33 & 37', 'Age'] = '35'\n",
    "sharks.loc[sharks.Age=='25 or 28', 'Age'] = '27'\n",
    "sharks.loc[sharks.Age=='37, 67, 35, 27,  ? & 27', 'Age'] = '39'\n",
    "sharks.loc[sharks.Age=='21, 34,24 & 35', 'Age'] = '30'\n",
    "sharks.loc[sharks.Age=='30 & 32', 'Age'] = '31'\n",
    "sharks.loc[sharks.Age=='50 & 30', 'Age'] = '40'\n",
    "sharks.loc[sharks.Age=='17 & 35', 'Age'] = '26'\n",
    "sharks.loc[sharks.Age=='34 & 19', 'Age'] = '26'\n",
    "sharks.loc[sharks.Age=='2 to 3 months', 'Age'] = '0'\n",
    "sharks.loc[sharks.Age=='7 or 8', 'Age'] = '7'\n",
    "sharks.loc[sharks.Age=='17 & 16', 'Age'] = '16'\n",
    "sharks.loc[sharks.Age=='Both 11', 'Age'] = '11'\n",
    "sharks.loc[sharks.Age=='13 or 14', 'Age'] = '13'\n",
    "sharks.loc[sharks.Age=='2½', 'Age'] = '2'\n",
    "sharks.loc[sharks.Age==' 43', 'Age'] = '43'\n",
    "sharks.loc[sharks.Age=='9 or 10', 'Age'] = '10'\n",
    "sharks.loc[sharks.Age=='36 & 23', 'Age'] = '30'\n",
    "sharks.loc[sharks.Age=='  ', 'Age'] = None\n",
    "sharks.loc[sharks.Age=='10 or 12', 'Age'] = '10'\n",
    "sharks.loc[sharks.Age=='?    &   14', 'Age'] = '14'\n",
    "sharks.loc[sharks.Age=='31 or 33', 'Age'] = '32'\n",
    "sharks.loc[sharks.Age=='Elderly', 'Age'] = '70'\n",
    "sharks.loc[sharks.Age=='(adult)', 'Age'] = '40'\n",
    "sharks.loc[sharks.Age=='adult', 'Age'] = '40'\n",
    "sharks.loc[sharks.Age=='\"middle-age\"', 'Age'] = '50'\n",
    "sharks.loc[sharks.Age=='\"young\"', 'Age'] = '20'\n",
    "sharks.loc[sharks.Age=='young', 'Age'] = '20'"
   ]
  },
  {
   "cell_type": "code",
   "execution_count": 52,
   "metadata": {},
   "outputs": [
    {
     "data": {
      "text/plain": [
       "array(['57', '11', '48', nan, '18', '52', '15', '12', '32', '10', '21',\n",
       "       '34', '30', '60', '33', '29', '54', '41', '37', '56', '19', '25',\n",
       "       '69', '38', '55', '35', '46', '45', '14', '40', '28', '20', '24',\n",
       "       '26', '49', '22', '7', '31', '17', '13', '42', '3', '8', '50',\n",
       "       '16', '82', '73', '68', '51', '39', '58', '47', '61', '65', '36',\n",
       "       '66', '43', '9', '72', '59', '6', '27', '64', '23', '71', '44',\n",
       "       '62', '63', '70', '1', '53', '77', '74', '5', '86', '84', None,\n",
       "       '75', ' 28', '87', '67', '33 & 26', '0', '81', '78', '2'],\n",
       "      dtype=object)"
      ]
     },
     "execution_count": 52,
     "metadata": {},
     "output_type": "execute_result"
    }
   ],
   "source": [
    "sharks.Age.unique()"
   ]
  },
  {
   "cell_type": "code",
   "execution_count": 53,
   "metadata": {},
   "outputs": [
    {
     "data": {
      "text/plain": [
       "array(['N', 'Y', nan, 'M', 'UNKNOWN', '2017', ' N', 'N ', 'y'],\n",
       "      dtype=object)"
      ]
     },
     "execution_count": 53,
     "metadata": {},
     "output_type": "execute_result"
    }
   ],
   "source": [
    "sharks['Fatal (Y/N)'].unique()"
   ]
  },
  {
   "cell_type": "code",
   "execution_count": 54,
   "metadata": {},
   "outputs": [
    {
     "data": {
      "text/html": [
       "<div>\n",
       "<style scoped>\n",
       "    .dataframe tbody tr th:only-of-type {\n",
       "        vertical-align: middle;\n",
       "    }\n",
       "\n",
       "    .dataframe tbody tr th {\n",
       "        vertical-align: top;\n",
       "    }\n",
       "\n",
       "    .dataframe thead th {\n",
       "        text-align: right;\n",
       "    }\n",
       "</style>\n",
       "<table border=\"1\" class=\"dataframe\">\n",
       "  <thead>\n",
       "    <tr style=\"text-align: right;\">\n",
       "      <th></th>\n",
       "      <th>Date</th>\n",
       "      <th>Year</th>\n",
       "      <th>Type</th>\n",
       "      <th>Country</th>\n",
       "      <th>Area</th>\n",
       "      <th>Location</th>\n",
       "      <th>Activity</th>\n",
       "      <th>Sex</th>\n",
       "      <th>Age</th>\n",
       "      <th>Injury</th>\n",
       "      <th>Fatal (Y/N)</th>\n",
       "      <th>Time</th>\n",
       "      <th>Species</th>\n",
       "    </tr>\n",
       "  </thead>\n",
       "  <tbody>\n",
       "    <tr>\n",
       "      <th>285</th>\n",
       "      <td>18-Apr-2016</td>\n",
       "      <td>2016</td>\n",
       "      <td>Provoked</td>\n",
       "      <td>FRENCH POLYNESIA</td>\n",
       "      <td>Tuamotos</td>\n",
       "      <td>Makemo Atoll</td>\n",
       "      <td>Spearfishing</td>\n",
       "      <td>M</td>\n",
       "      <td>22</td>\n",
       "      <td>Laceration to knee by speared shark PROVOKED I...</td>\n",
       "      <td>M</td>\n",
       "      <td>Morning</td>\n",
       "      <td>Grey reef shark, 2 m</td>\n",
       "    </tr>\n",
       "  </tbody>\n",
       "</table>\n",
       "</div>"
      ],
      "text/plain": [
       "            Date  Year      Type           Country      Area      Location  \\\n",
       "285  18-Apr-2016  2016  Provoked  FRENCH POLYNESIA  Tuamotos  Makemo Atoll   \n",
       "\n",
       "         Activity Sex Age                                             Injury  \\\n",
       "285  Spearfishing   M  22  Laceration to knee by speared shark PROVOKED I...   \n",
       "\n",
       "    Fatal (Y/N)     Time               Species  \n",
       "285           M  Morning  Grey reef shark, 2 m  "
      ]
     },
     "execution_count": 54,
     "metadata": {},
     "output_type": "execute_result"
    }
   ],
   "source": [
    "sharks[sharks['Fatal (Y/N)']=='M']"
   ]
  },
  {
   "cell_type": "code",
   "execution_count": 55,
   "metadata": {},
   "outputs": [],
   "source": [
    "sharks.loc[sharks['Fatal (Y/N)']=='M', 'Fatal (Y/N)'] = 'UNKNOWN'\n",
    "sharks.loc[sharks['Fatal (Y/N)']=='2017', 'Fatal (Y/N)'] = 'N'\n",
    "sharks.loc[sharks['Fatal (Y/N)']=='N ', 'Fatal (Y/N)'] = 'N'\n",
    "sharks.loc[sharks['Fatal (Y/N)']==' N', 'Fatal (Y/N)'] = 'N'\n",
    "sharks.loc[sharks['Fatal (Y/N)']=='y', 'Fatal (Y/N)'] = 'Y'\n",
    "sharks.loc[sharks['Fatal (Y/N)'].isna(), 'Fatal (Y/N)'] = 'UNKNOWN'"
   ]
  },
  {
   "cell_type": "code",
   "execution_count": 56,
   "metadata": {},
   "outputs": [
    {
     "data": {
      "text/html": [
       "<div>\n",
       "<style scoped>\n",
       "    .dataframe tbody tr th:only-of-type {\n",
       "        vertical-align: middle;\n",
       "    }\n",
       "\n",
       "    .dataframe tbody tr th {\n",
       "        vertical-align: top;\n",
       "    }\n",
       "\n",
       "    .dataframe thead th {\n",
       "        text-align: right;\n",
       "    }\n",
       "</style>\n",
       "<table border=\"1\" class=\"dataframe\">\n",
       "  <thead>\n",
       "    <tr style=\"text-align: right;\">\n",
       "      <th></th>\n",
       "      <th>Date</th>\n",
       "      <th>Year</th>\n",
       "      <th>Type</th>\n",
       "      <th>Country</th>\n",
       "      <th>Area</th>\n",
       "      <th>Location</th>\n",
       "      <th>Activity</th>\n",
       "      <th>Sex</th>\n",
       "      <th>Age</th>\n",
       "      <th>Injury</th>\n",
       "      <th>Fatal (Y/N)</th>\n",
       "      <th>Time</th>\n",
       "    </tr>\n",
       "    <tr>\n",
       "      <th>Species</th>\n",
       "      <th></th>\n",
       "      <th></th>\n",
       "      <th></th>\n",
       "      <th></th>\n",
       "      <th></th>\n",
       "      <th></th>\n",
       "      <th></th>\n",
       "      <th></th>\n",
       "      <th></th>\n",
       "      <th></th>\n",
       "      <th></th>\n",
       "      <th></th>\n",
       "    </tr>\n",
       "  </thead>\n",
       "  <tbody>\n",
       "    <tr>\n",
       "      <th>White shark</th>\n",
       "      <td>163</td>\n",
       "      <td>163</td>\n",
       "      <td>163</td>\n",
       "      <td>163</td>\n",
       "      <td>158</td>\n",
       "      <td>157</td>\n",
       "      <td>158</td>\n",
       "      <td>140</td>\n",
       "      <td>95</td>\n",
       "      <td>162</td>\n",
       "      <td>163</td>\n",
       "      <td>98</td>\n",
       "    </tr>\n",
       "    <tr>\n",
       "      <th>Shark involvement prior to death was not confirmed</th>\n",
       "      <td>105</td>\n",
       "      <td>105</td>\n",
       "      <td>105</td>\n",
       "      <td>103</td>\n",
       "      <td>94</td>\n",
       "      <td>97</td>\n",
       "      <td>69</td>\n",
       "      <td>86</td>\n",
       "      <td>47</td>\n",
       "      <td>105</td>\n",
       "      <td>105</td>\n",
       "      <td>20</td>\n",
       "    </tr>\n",
       "    <tr>\n",
       "      <th>Invalid</th>\n",
       "      <td>102</td>\n",
       "      <td>102</td>\n",
       "      <td>102</td>\n",
       "      <td>102</td>\n",
       "      <td>90</td>\n",
       "      <td>93</td>\n",
       "      <td>86</td>\n",
       "      <td>88</td>\n",
       "      <td>45</td>\n",
       "      <td>102</td>\n",
       "      <td>102</td>\n",
       "      <td>28</td>\n",
       "    </tr>\n",
       "    <tr>\n",
       "      <th>Shark involvement not confirmed</th>\n",
       "      <td>88</td>\n",
       "      <td>88</td>\n",
       "      <td>88</td>\n",
       "      <td>86</td>\n",
       "      <td>83</td>\n",
       "      <td>82</td>\n",
       "      <td>77</td>\n",
       "      <td>79</td>\n",
       "      <td>51</td>\n",
       "      <td>87</td>\n",
       "      <td>88</td>\n",
       "      <td>44</td>\n",
       "    </tr>\n",
       "    <tr>\n",
       "      <th>Tiger shark</th>\n",
       "      <td>73</td>\n",
       "      <td>73</td>\n",
       "      <td>73</td>\n",
       "      <td>73</td>\n",
       "      <td>68</td>\n",
       "      <td>64</td>\n",
       "      <td>71</td>\n",
       "      <td>69</td>\n",
       "      <td>45</td>\n",
       "      <td>73</td>\n",
       "      <td>73</td>\n",
       "      <td>40</td>\n",
       "    </tr>\n",
       "  </tbody>\n",
       "</table>\n",
       "</div>"
      ],
      "text/plain": [
       "                                                    Date  Year  Type  Country  \\\n",
       "Species                                                                         \n",
       "White shark                                          163   163   163      163   \n",
       "Shark involvement prior to death was not confirmed   105   105   105      103   \n",
       "Invalid                                              102   102   102      102   \n",
       "Shark involvement not confirmed                       88    88    88       86   \n",
       "Tiger shark                                           73    73    73       73   \n",
       "\n",
       "                                                    Area  Location  Activity  \\\n",
       "Species                                                                        \n",
       "White shark                                          158       157       158   \n",
       "Shark involvement prior to death was not confirmed    94        97        69   \n",
       "Invalid                                               90        93        86   \n",
       "Shark involvement not confirmed                       83        82        77   \n",
       "Tiger shark                                           68        64        71   \n",
       "\n",
       "                                                    Sex  Age  Injury  \\\n",
       "Species                                                                \n",
       "White shark                                         140   95     162   \n",
       "Shark involvement prior to death was not confirmed   86   47     105   \n",
       "Invalid                                              88   45     102   \n",
       "Shark involvement not confirmed                      79   51      87   \n",
       "Tiger shark                                          69   45      73   \n",
       "\n",
       "                                                    Fatal (Y/N)  Time  \n",
       "Species                                                                \n",
       "White shark                                                 163    98  \n",
       "Shark involvement prior to death was not confirmed          105    20  \n",
       "Invalid                                                     102    28  \n",
       "Shark involvement not confirmed                              88    44  \n",
       "Tiger shark                                                  73    40  "
      ]
     },
     "execution_count": 56,
     "metadata": {},
     "output_type": "execute_result"
    }
   ],
   "source": [
    "spec = sharks.groupby('Species').count()\n",
    "spec.sort_values('Date', ascending=False).head(5)"
   ]
  },
  {
   "cell_type": "code",
   "execution_count": 57,
   "metadata": {},
   "outputs": [],
   "source": [
    "def shark(col, word, to_replace): \n",
    "    \"\"\"word to be found and replace by\"\"\"\n",
    "    try:\n",
    "        x = re.findall(f'({word})|({word.lower()})', col)\n",
    "\n",
    "        if len(x) == 0:\n",
    "            return col\n",
    "\n",
    "        return to_replace\n",
    "    except:\n",
    "        return col\n",
    "\n",
    "col = 'Species'\n",
    "word = \"Bull shark\"\n",
    "sharks.loc[:, col] = [shark(x, word, word) for x in sharks.loc[:, col].values]"
   ]
  },
  {
   "cell_type": "code",
   "execution_count": 58,
   "metadata": {},
   "outputs": [],
   "source": [
    "col = 'Species'\n",
    "word = \"Grey nurse shark\"\n",
    "sharks.loc[:, col] = [shark(x, word, word) for x in sharks.loc[:, col].values]"
   ]
  },
  {
   "cell_type": "code",
   "execution_count": 59,
   "metadata": {},
   "outputs": [],
   "source": [
    "word = \"Tiger shark\"\n",
    "to_replace = 'Tiger shark'\n",
    "sharks.loc[:, col] = [shark(x, word, to_replace) for x in sharks.loc[:, col].values]"
   ]
  },
  {
   "cell_type": "code",
   "execution_count": 60,
   "metadata": {},
   "outputs": [],
   "source": [
    "word = \"Hammerhead\"\n",
    "to_replace = 'Hammerhead'\n",
    "sharks.loc[:, col] = [shark(x, word, to_replace) for x in sharks.loc[:, col].values]"
   ]
  },
  {
   "cell_type": "code",
   "execution_count": 61,
   "metadata": {},
   "outputs": [],
   "source": [
    "word = \"Mako shark\"\n",
    "to_replace = 'Mako shark'\n",
    "sharks.loc[:, col] = [shark(x, word, to_replace) for x in sharks.loc[:, col].values]"
   ]
  },
  {
   "cell_type": "code",
   "execution_count": 62,
   "metadata": {},
   "outputs": [],
   "source": [
    "word = \"White shark\"\n",
    "to_replace = 'White shark'\n",
    "sharks.loc[:, col] = [shark(x, word, to_replace) for x in sharks.loc[:, col].values]"
   ]
  },
  {
   "cell_type": "code",
   "execution_count": 63,
   "metadata": {},
   "outputs": [],
   "source": [
    "word = \"Blue shark\"\n",
    "to_replace = 'Blue shark'\n",
    "sharks.loc[:, col] = [shark(x, word, to_replace) for x in sharks.loc[:, col].values]"
   ]
  },
  {
   "cell_type": "code",
   "execution_count": 64,
   "metadata": {},
   "outputs": [],
   "source": [
    "word = \"Blacktip shark\"\n",
    "to_replace = 'Blacktip shark'\n",
    "sharks.loc[:, col] = [shark(x, word, to_replace) for x in sharks.loc[:, col].values]"
   ]
  },
  {
   "cell_type": "code",
   "execution_count": 65,
   "metadata": {},
   "outputs": [],
   "source": [
    "word = \"Blacktip\"\n",
    "to_replace = 'Blacktip shark'\n",
    "sharks.loc[:, col] = [shark(x, word, to_replace) for x in sharks.loc[:, col].values]"
   ]
  },
  {
   "cell_type": "code",
   "execution_count": 66,
   "metadata": {},
   "outputs": [],
   "source": [
    "word = \"Bronze whaler shark\"\n",
    "to_replace = 'Bronze whaler shark'\n",
    "sharks.loc[:, col] = [shark(x, word, to_replace) for x in sharks.loc[:, col].values]"
   ]
  },
  {
   "cell_type": "code",
   "execution_count": 67,
   "metadata": {},
   "outputs": [],
   "source": [
    "word = 'Caribbean reef shark'\n",
    "to_replace = 'Caribbean reef shark'\n",
    "sharks.loc[:, col] = [shark(x, word, to_replace) for x in sharks.loc[:, col].values]"
   ]
  },
  {
   "cell_type": "code",
   "execution_count": 68,
   "metadata": {},
   "outputs": [],
   "source": [
    "word = 'Caribbean reef shark'\n",
    "to_replace = 'Caribbean reef shark'\n",
    "sharks.loc[:, col] = [shark(x, word, to_replace) for x in sharks.loc[:, col].values]"
   ]
  },
  {
   "cell_type": "code",
   "execution_count": 69,
   "metadata": {},
   "outputs": [
    {
     "data": {
      "text/plain": [
       "{'No shark involvement',\n",
       " 'Reported by media as shark attack, but shark involvement prior to death was not confirmed',\n",
       " 'Shark involvement  not confirmed',\n",
       " 'Shark involvement  questionable',\n",
       " 'Shark involvement doubtful',\n",
       " 'Shark involvement highly doubtful',\n",
       " 'Shark involvement not cofirmed',\n",
       " 'Shark involvement not confirmed',\n",
       " 'Shark involvement not confirmed & highly unlikely',\n",
       " 'Shark involvement not confirmed, injury may be due to a stingray',\n",
       " 'Shark involvement not confirmed, injury may have been caused by a bluefish',\n",
       " 'Shark involvement not confirmed; officials considered barracua',\n",
       " 'Shark involvement not confirmed; thought to be a barracuda bite',\n",
       " 'Shark involvement prior to death could not be determined',\n",
       " 'Shark involvement prior to death not confirmed',\n",
       " 'Shark involvement prior to death remains unconfirmed',\n",
       " 'Shark involvement prior to death still to be determined',\n",
       " 'Shark involvement prior to death suspected but not confirmed',\n",
       " 'Shark involvement prior to death unconfired',\n",
       " 'Shark involvement prior to death unconfirmed',\n",
       " 'Shark involvement prior to death was not confirmed',\n",
       " 'Shark involvement prior to deaths unconfirmed',\n",
       " 'Shark involvement prior to deaths was not confirmed',\n",
       " 'Shark involvement probable',\n",
       " 'Shark involvement probable, but not confirmed',\n",
       " 'Shark involvement questionable',\n",
       " 'Shark involvement suspected but not confirmed',\n",
       " 'Shark involvement unconfirmed',\n",
       " \"Thought to involve a 3' to 4' shark, but shark involvement not confirmed\",\n",
       " 'shark involvement not confirmed'}"
      ]
     },
     "execution_count": 69,
     "metadata": {},
     "output_type": "execute_result"
    }
   ],
   "source": [
    "invol = []\n",
    "col = 'Species'\n",
    "word = 'Shark involvement'\n",
    "for i in sharks.Species.iteritems():\n",
    "    try:\n",
    "        x = re.findall(f'({word})|({word.lower()})', i[1])\n",
    "        if len(x)>0:\n",
    "            invol.append(i[1])\n",
    "    except:\n",
    "        pass\n",
    "set(invol)"
   ]
  },
  {
   "cell_type": "code",
   "execution_count": 70,
   "metadata": {},
   "outputs": [],
   "source": [
    "word = 'Shark involvement'\n",
    "to_replace = 'Shark involvement unconfirmed'\n",
    "sharks.loc[:, col] = [shark(x, word, to_replace) for x in sharks.loc[:, col].values]"
   ]
  },
  {
   "cell_type": "code",
   "execution_count": 71,
   "metadata": {},
   "outputs": [],
   "source": [
    "word = 'Wobbegong shark'\n",
    "to_replace = 'Wobbegong shark'\n",
    "sharks.loc[:, col] = [shark(x, word, to_replace) for x in sharks.loc[:, col].values]"
   ]
  },
  {
   "cell_type": "code",
   "execution_count": 72,
   "metadata": {},
   "outputs": [],
   "source": [
    "word = 'Nurse shark'\n",
    "to_replace = 'Nurse shark'\n",
    "sharks.loc[:, col] = [shark(x, word, to_replace) for x in sharks.loc[:, col].values]"
   ]
  },
  {
   "cell_type": "code",
   "execution_count": 73,
   "metadata": {},
   "outputs": [],
   "source": [
    "word = 'Grey reef shark'\n",
    "to_replace = 'Grey reef shark'\n",
    "sharks.loc[:, col] = [shark(x, word, to_replace) for x in sharks.loc[:, col].values]"
   ]
  },
  {
   "cell_type": "code",
   "execution_count": 74,
   "metadata": {},
   "outputs": [
    {
     "data": {
      "text/plain": [
       "Species\n",
       "White shark                      635\n",
       "Shark involvement unconfirmed    330\n",
       "Tiger shark                      281\n",
       "Bull shark                       180\n",
       "Invalid                          102\n",
       "dtype: int64"
      ]
     },
     "execution_count": 74,
     "metadata": {},
     "output_type": "execute_result"
    }
   ],
   "source": [
    "spec = sharks.groupby('Species').size()\n",
    "spec.sort_values(ascending=False).head(5)"
   ]
  },
  {
   "cell_type": "code",
   "execution_count": 75,
   "metadata": {},
   "outputs": [
    {
     "data": {
      "text/plain": [
       "{'Leopard shark',\n",
       " \"Leopard shark, 3' Triakis semifasciata, identified by J.W. DeWitt (1955)\"}"
      ]
     },
     "execution_count": 75,
     "metadata": {},
     "output_type": "execute_result"
    }
   ],
   "source": [
    "invol = []\n",
    "col = 'Species'\n",
    "word = 'Leopard shark'\n",
    "for i in sharks.Species.iteritems():\n",
    "    try:\n",
    "        x = re.findall(f'({word})|({word.lower()})', i[1])\n",
    "        if len(x)>0:\n",
    "            invol.append(i[1])\n",
    "    except:\n",
    "        pass\n",
    "set(invol)"
   ]
  },
  {
   "cell_type": "code",
   "execution_count": 76,
   "metadata": {},
   "outputs": [],
   "source": [
    "sharks.loc[sharks.Age=='Questionable incident - shark bite may have precipitated drowning', 'Species'] = 'Shark involvement unconfirmed'\n",
    "sharks.loc[sharks.Age=='Questionable incident; reported as shark attack but thought to involve a pinniped instead ', 'Species'] = 'Shark involvement unconfirmed'"
   ]
  },
  {
   "cell_type": "code",
   "execution_count": 77,
   "metadata": {},
   "outputs": [],
   "source": [
    "word = 'Questionable'\n",
    "to_replace = 'Questionable'\n",
    "sharks.loc[:, col] = [shark(x, word, to_replace) for x in sharks.loc[:, col].values]"
   ]
  },
  {
   "cell_type": "code",
   "execution_count": 78,
   "metadata": {},
   "outputs": [],
   "source": [
    "word = 'Reef shark'\n",
    "to_replace = 'Reef shark'\n",
    "sharks.loc[:, col] = [shark(x, word, to_replace) for x in sharks.loc[:, col].values]"
   ]
  },
  {
   "cell_type": "code",
   "execution_count": 79,
   "metadata": {},
   "outputs": [],
   "source": [
    "word = \"Zambesi\"\n",
    "to_replace = 'Bull shark'\n",
    "sharks.loc[:, col] = [shark(x, word, to_replace) for x in sharks.loc[:, col].values]"
   ]
  },
  {
   "cell_type": "code",
   "execution_count": 80,
   "metadata": {},
   "outputs": [],
   "source": [
    "word = \"Zambezi\"\n",
    "to_replace = 'Bull shark'\n",
    "sharks.loc[:, col] = [shark(x, word, to_replace) for x in sharks.loc[:, col].values]"
   ]
  },
  {
   "cell_type": "code",
   "execution_count": 81,
   "metadata": {},
   "outputs": [],
   "source": [
    "word = 'Sevengill'\n",
    "to_replace = 'Sevengill'\n",
    "sharks.loc[:, col] = [shark(x, word, to_replace) for x in sharks.loc[:, col].values]"
   ]
  },
  {
   "cell_type": "code",
   "execution_count": 82,
   "metadata": {},
   "outputs": [],
   "source": [
    "word = 'Porbeagle'\n",
    "to_replace = 'Porbeagle'\n",
    "sharks.loc[:, col] = [shark(x, word, to_replace) for x in sharks.loc[:, col].values]"
   ]
  },
  {
   "cell_type": "code",
   "execution_count": 83,
   "metadata": {},
   "outputs": [],
   "source": [
    "word = 'Raggedtooth'\n",
    "to_replace = 'Raggedtooth'\n",
    "sharks.loc[:, col] = [shark(x, word, to_replace) for x in sharks.loc[:, col].values]"
   ]
  },
  {
   "cell_type": "code",
   "execution_count": 84,
   "metadata": {},
   "outputs": [],
   "source": [
    "#sharks[sharks.Species=='Invalid']"
   ]
  },
  {
   "cell_type": "markdown",
   "metadata": {},
   "source": [
    "## Adding additional columns"
   ]
  },
  {
   "cell_type": "markdown",
   "metadata": {},
   "source": [
    " Adding Hour column for time of the attack"
   ]
  },
  {
   "cell_type": "code",
   "execution_count": 85,
   "metadata": {},
   "outputs": [],
   "source": [
    "sharks['Hour'] = sharks['Time'].str.extract(\"([0-9]+)\", expand=False).dropna().astype(int)\n",
    "sharks['Hour']= sharks[sharks['Hour']<25]['Hour']"
   ]
  },
  {
   "cell_type": "markdown",
   "metadata": {},
   "source": [
    "Assigning countries into Southern and Northern hemispheres and adding Month column for Month of the attack"
   ]
  },
  {
   "cell_type": "code",
   "execution_count": 86,
   "metadata": {},
   "outputs": [],
   "source": [
    "# Northen - 0, Southern - 1\n",
    "countries = {'CROATIA': 0, 'NORWAY': 0, 'FRANCE': 0, 'MARTINIQUE': 0, 'ICELAND': 0, \n",
    "            'JAVA': 1, 'Sierra Leone': 0, 'CYPRUS': 0, 'LIBERIA': 0, 'NEW BRITAIN': 1, \n",
    "            'URUGUAY': 1, 'NORTH ATLANTIC OCEAN ': 0, 'ADMIRALTY ISLANDS': 1, \n",
    "            'PAPUA NEW GUINEA': 1, 'DJIBOUTI': 0, 'TAIWAN': 1, 'EL SALVADOR': 0, \n",
    "            'ST. MAARTIN': 0, 'ASIA?': 0, 'NAMIBIA': 1, 'OCEAN': 1, 'CAPE VERDE': 0, \n",
    "            'MID ATLANTIC OCEAN': 0, 'MAURITIUS': 1, 'ANTIGUA': 0, 'FRENCH POLYNESIA': 1, \n",
    "            'JOHNSTON ISLAND': 0, 'SUDAN': 0, 'SOUTH KOREA': 0, 'TUVALU': 1, \n",
    "            'SOUTH ATLANTIC OCEAN': 1, 'UNITED ARAB EMIRATES (UAE)': 0, 'DOMINICAN REPUBLIC': 0, \n",
    "            ' PHILIPPINES': 0, 'MALAYSIA': 0, 'BRITISH VIRGIN ISLANDS': 0, 'CHINA': 0, \n",
    "            'ATLANTIC OCEAN': 0, 'ITALY': 0, 'VENEZUELA': 0, 'SOLOMON ISLANDS / VANUATU': 1, \n",
    "            'SOUTH CHINA SEA': 0, 'Between PORTUGAL & INDIA': 2, 'DIEGO GARCIA': 1, \n",
    "            'MEDITERRANEAN SEA?': 0, 'INDIAN OCEAN?': 1, 'INDIA': 0, 'SOUTH AFRICA': 1, \n",
    "            'St Helena': 1, 'WESTERN SAMOA': 1, 'TASMAN SEA': 1, 'HONG KONG': 0, 'TONGA': 1, \n",
    "            'YEMEN': 0, 'COLUMBIA': 0, 'NORTHERN MARIANA ISLANDS': 0, 'GUAM': 0, 'GUINEA': 0, \n",
    "            'CENTRAL PACIFIC': 2, 'GUATEMALA': 0, 'FIJI': 1, 'GULF OF ADEN': 0, 'JAPAN': 0, \n",
    "            'MID-PACIFC OCEAN': 0, 'ST. MARTIN': 1, 'USA': 0, 'CRETE': 0, 'BRAZIL': 1, \n",
    "            'TURKS & CAICOS': 0, 'SOUTHWEST PACIFIC OCEAN': 1, 'GREENLAND': 0, \n",
    "            'BAY OF BENGAL': 1, 'PACIFIC OCEAN': 0, 'LEBANON': 0, 'MALTA': 0, 'NIGERIA': 0, \n",
    "            'GREECE': 0, 'MEXICO': 0, 'BERMUDA': 0, 'UNITED KINGDOM': 0, 'SINGAPORE': 0, \n",
    "            'BRITISH ISLES': 0, 'TURKEY': 0, 'NEVIS': 1, 'AUSTRALIA': 1, 'ENGLAND': 0, \n",
    "            'SIERRA LEONE': 0, 'VANUATU': 1, 'NORTH SEA': 0, 'RUSSIA': 0, 'MICRONESIA': 0, \n",
    "            'PORTUGAL': 0, 'RED SEA': 0, 'MONTENEGRO': 0, 'IRAQ': 0, 'SWEDEN': 0, \n",
    "            'PERSIAN GULF': 0, 'NORTH ATLANTIC OCEAN': 0, 'Fiji': 1, 'SLOVENIA': 0, \n",
    "            'PHILIPPINES': 0, 'IRAN / IRAQ': 0, 'TUNISIA': 0, 'SAN DOMINGO': 1, 'AZORES': 0, \n",
    "            'GEORGIA': 0, 'BURMA': 0, 'NEW GUINEA': 1, 'SUDAN?': 0, 'NETHERLANDS ANTILLES': 0, \n",
    "            'ALGERIA': 0, 'NICARAGUA': 0, 'SEYCHELLES': 1, 'RED SEA?': 0, 'BRITISH NEW GUINEA': 1, \n",
    "            'THAILAND': 0, 'PALESTINIAN TERRITORIES': 0, 'FALKLAND ISLANDS': 1, 'IRELAND': 0, \n",
    "            'MONACO': 0, 'PARAGUAY': 1, 'SYRIA': 0, 'EGYPT ': 0, 'MADAGASCAR': 1, \n",
    "            'NORTH PACIFIC OCEAN': 0, 'EGYPT / ISRAEL': 0, 'COOK ISLANDS': 1, \n",
    "            'TRINIDAD & TOBAGO': 0, 'PACIFIC OCEAN ': 0, 'EQUATORIAL GUINEA / CAMEROON': 0, \n",
    "            'ISRAEL': 0, 'SAMOA': 1, 'ECUADOR': 1, 'CARIBBEAN SEA': 0, 'NEW CALEDONIA': 1, \n",
    "            'MARSHALL ISLANDS': 0, 'PANAMA': 0, 'UNITED ARAB EMIRATES': 0, 'ITALY / CROATIA': 0, \n",
    "            'NEW ZEALAND': 1, 'MALDIVE ISLANDS': 0, 'GHANA': 0, 'MOZAMBIQUE': 0, 'SRI LANKA': 0, \n",
    "            'SOLOMON ISLANDS': 1, 'Coast of AFRICA': 1, 'BARBADOS': 0, 'BANGLADESH': 0, \n",
    "            'CHILE': 1, 'CANADA': 0, 'HONDURAS': 0, 'PALAU': 0, 'AMERICAN SAMOA': 1, \n",
    "            'SAUDI ARABIA': 0, ' TONGA': 1, 'SPAIN': 0, 'ARGENTINA': 1, 'CURACAO': 0, \n",
    "            'ANDAMAN / NICOBAR ISLANDAS': 0, 'KENYA': 1, 'EGYPT': 0, 'THE BALKANS': 0, \n",
    "            'PUERTO RICO': 0, 'KIRIBATI': 0, 'OKINAWA': 0, 'REUNION': 1, \n",
    "            'BRITISH WEST INDIES': 0, 'NICARAGUA ': 0, 'FEDERATED STATES OF MICRONESIA': 0, \n",
    "            'IRAN': 0, 'CAYMAN ISLANDS': 0, 'SOMALIA': 0, 'INDONESIA': 1, 'KUWAIT': 0, \n",
    "            'Seychelles': 1, 'COSTA RICA': 0, 'INDIAN OCEAN': 1, 'CEYLON (SRI LANKA)': 0, \n",
    "            'YEMEN ': 0, 'HAITI': 0, 'SCOTLAND': 0, 'CUBA': 0, 'GUYANA': 0, 'LIBYA': 0, \n",
    "            'MEXICO ': 0, 'SENEGAL': 0, 'GRAND CAYMAN': 0, 'GABON': 1, 'GRENADA': 0, \n",
    "            'RED SEA / INDIAN OCEAN': 0, 'VIETNAM': 0, 'BAHAMAS': 0, 'BAHREIN': 0, \n",
    "            'NORTHERN ARABIAN SEA': 0, 'BELIZE': 0, 'MEDITERRANEAN SEA': 0, 'ANGOLA': 1, \n",
    "            'SOUTH PACIFIC OCEAN': 1, 'TANZANIA': 1, 'KOREA': 0, 'JAMAICA': 0, 'ARUBA': 0, \n",
    "            'MAYOTTE':1}"
   ]
  },
  {
   "cell_type": "code",
   "execution_count": 87,
   "metadata": {},
   "outputs": [],
   "source": [
    "sharks['Month'] = None"
   ]
  },
  {
   "cell_type": "code",
   "execution_count": 88,
   "metadata": {},
   "outputs": [],
   "source": [
    "months_dict = {'Jan': 0, 'Feb': 1, 'Mar': 2, \n",
    "               'Apr': 3, 'Ap-': 3, 'May': 4, \n",
    "               'Jun': 5, 'Jul': 6, 'Aug': 7, \n",
    "               'Sep': 8, 'Oct': 9, 'Nov': 10, \n",
    "               'Dec': 11}\n",
    "\n",
    "def extract_month(d):  \n",
    "    date = d.replace(' ', '')\n",
    "    date = date.replace('July', 'Jul')\n",
    "    date = date.replace('Sept', 'Sep')\n",
    "    date = date.replace('--', '-')\n",
    "    date = date.replace('y2', 'y-2')\n",
    "    date = date.replace('v2', 'v-2')\n",
    "    month = 0\n",
    "    if len(date) >= 11 and len(date) <= 12 and date[2] == '-':\n",
    "        month = date[3:6]\n",
    "    elif len(date) == 10 and date[1] == '-':\n",
    "        month = date[2:5]\n",
    "    elif len(date) == 19 and date[10] == '-':\n",
    "        month = date[11:14]\n",
    "    try:\n",
    "        return months_dict[month]\n",
    "    except:\n",
    "        return None\n",
    "    \n",
    "sharks[\"Month\"] = sharks[\"Date\"].apply(lambda x: extract_month(x));\n",
    "\n",
    "def hemisphere(x): \n",
    "    try:  \n",
    "        hem = countries[x]\n",
    "        return hem\n",
    "    except:\n",
    "        return None\n",
    "\n",
    "sharks[\"Hemisphere\"] = sharks[\"Country\"].apply(lambda x: hemisphere(x));"
   ]
  },
  {
   "cell_type": "markdown",
   "metadata": {},
   "source": [
    "I have decided to focus on data between 1900 and 2018, mostly because the population of sharks is on the decrease and as well as people are going more often into the water to enjoy a variety of water activities. Moreover, the data set included some of the attacks described in the ancient or medieval literature, so I wanted to exclude it."
   ]
  },
  {
   "cell_type": "code",
   "execution_count": 92,
   "metadata": {},
   "outputs": [],
   "source": [
    "sharks = sharks[sharks.Year>=1900]"
   ]
  },
  {
   "cell_type": "markdown",
   "metadata": {},
   "source": [
    "Saving cleaned DataFrame"
   ]
  },
  {
   "cell_type": "code",
   "execution_count": 93,
   "metadata": {},
   "outputs": [],
   "source": [
    "sharks.to_csv('shark_attack_cleaned.csv', index=False)"
   ]
  },
  {
   "cell_type": "code",
   "execution_count": null,
   "metadata": {},
   "outputs": [],
   "source": []
  }
 ],
 "metadata": {
  "kernelspec": {
   "display_name": "Python 3",
   "language": "python",
   "name": "python3"
  },
  "language_info": {
   "codemirror_mode": {
    "name": "ipython",
    "version": 3
   },
   "file_extension": ".py",
   "mimetype": "text/x-python",
   "name": "python",
   "nbconvert_exporter": "python",
   "pygments_lexer": "ipython3",
   "version": "3.6.4"
  },
  "varInspector": {
   "cols": {
    "lenName": 16,
    "lenType": 16,
    "lenVar": 40
   },
   "kernels_config": {
    "python": {
     "delete_cmd_postfix": "",
     "delete_cmd_prefix": "del ",
     "library": "var_list.py",
     "varRefreshCmd": "print(var_dic_list())"
    },
    "r": {
     "delete_cmd_postfix": ") ",
     "delete_cmd_prefix": "rm(",
     "library": "var_list.r",
     "varRefreshCmd": "cat(var_dic_list()) "
    }
   },
   "types_to_exclude": [
    "module",
    "function",
    "builtin_function_or_method",
    "instance",
    "_Feature"
   ],
   "window_display": false
  }
 },
 "nbformat": 4,
 "nbformat_minor": 2
}
